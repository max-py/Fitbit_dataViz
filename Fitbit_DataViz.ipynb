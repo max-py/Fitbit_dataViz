{
 "cells": [
  {
   "cell_type": "markdown",
   "metadata": {},
   "source": [
    "# Import all necessary Python libraries"
   ]
  },
  {
   "cell_type": "code",
   "execution_count": null,
   "metadata": {},
   "outputs": [],
   "source": [
    "import fitbit\n",
    "# make sure gather_keys_oauth2.py is in the same directory. \n",
    "# you also need to install CherryPy using 'pip install cherrypy' on your virtual environment\n",
    "import gather_keys_oauth2 as Oauth2\n",
    "import pandas as pd\n",
    "import datetime"
   ]
  },
  {
   "cell_type": "markdown",
   "metadata": {},
   "source": [
    "# Update authentication details"
   ]
  },
  {
   "cell_type": "code",
   "execution_count": null,
   "metadata": {},
   "outputs": [],
   "source": [
    "# you need to use your personal CLIENT_ID and CLIENT_SECRET\n",
    "CLIENT_ID='99COZA'\n",
    "CLIENT_SECRET='ln09b22x3vddb4f95fge605caba32db6'"
   ]
  },
  {
   "cell_type": "markdown",
   "metadata": {},
   "source": [
    "# Get tokens and establish connection with Fitbit API"
   ]
  },
  {
   "cell_type": "code",
   "execution_count": null,
   "metadata": {},
   "outputs": [],
   "source": [
    "server=Oauth2.OAuth2Server(CLIENT_ID, CLIENT_SECRET)\n",
    "server.browser_authorize()\n",
    "\n",
    "ACCESS_TOKEN=str(server.fitbit.client.session.token['access_token'])\n",
    "REFRESH_TOKEN=str(server.fitbit.client.session.token['refresh_token'])\n",
    "\n",
    "auth2_client=fitbit.Fitbit(CLIENT_ID, CLIENT_SECRET, oauth2=True, access_token=ACCESS_TOKEN, refresh_token=REFRESH_TOKEN)"
   ]
  },
  {
   "cell_type": "markdown",
   "metadata": {},
   "source": [
    "# Pull data"
   ]
  },
  {
   "cell_type": "code",
   "execution_count": null,
   "metadata": {},
   "outputs": [],
   "source": [
    "# here you need to adjust the start date, depending on when you started Fitbit data collection\n",
    "startTime = datetime.datetime(year = 2020, month = 5, day = 12)\n",
    "today = datetime.datetime.today().date()\n",
    "endTime = today - datetime.timedelta(days=1)"
   ]
  },
  {
   "cell_type": "code",
   "execution_count": null,
   "metadata": {},
   "outputs": [],
   "source": [
    "date_list = []\n",
    "df_list = []\n",
    "\n",
    "allDates = pd.date_range(start=startTime, end = endTime)\n",
    "\n",
    "for oneDate in allDates:\n",
    "    oneDate = oneDate.date().strftime(\"%Y-%m-%d\")\n",
    "    date_list.append(oneDate)\n",
    "    oneDayData = auth2_client.intraday_time_series('activities/heart', base_date=oneDate, detail_level='1sec')\n",
    "    df = pd.DataFrame(oneDayData['activities-heart-intraday']['dataset'])\n",
    "    df_list.append(df)\n",
    "\n",
    "final_df_list = []\n",
    "\n",
    "for date, df in zip(date_list, df_list):\n",
    "    if len(df) == 0:\n",
    "        continue\n",
    "    df.loc[:, 'date'] = pd.to_datetime(date)\n",
    "    final_df_list.append(df)\n",
    "\n",
    "final_df = pd.concat(final_df_list, axis = 0)"
   ]
  },
  {
   "cell_type": "code",
   "execution_count": null,
   "metadata": {},
   "outputs": [],
   "source": [
    "# this adds more granularity to data (date and time)\n",
    "hoursDelta = pd.to_datetime(final_df.loc[:, 'time']).dt.hour.apply(lambda x: datetime.timedelta(hours = x))\n",
    "minutesDelta = pd.to_datetime(final_df.loc[:, 'time']).dt.minute.apply(lambda x: datetime.timedelta(minutes = x))\n",
    "secondsDelta = pd.to_datetime(final_df.loc[:, 'time']).dt.second.apply(lambda x: datetime.timedelta(seconds = x))\n",
    "final_df['date_and_time'] = final_df['date'] + hoursDelta + minutesDelta + secondsDelta"
   ]
  },
  {
   "cell_type": "code",
   "execution_count": null,
   "metadata": {},
   "outputs": [],
   "source": [
    "# optional: generate a csv export\n",
    "filename = 'export_all_heart_data_' + str(today)\n",
    "final_df.to_csv(filename + '.csv', index = False)"
   ]
  },
  {
   "cell_type": "markdown",
   "metadata": {},
   "source": [
    "# Visualise it"
   ]
  },
  {
   "cell_type": "code",
   "execution_count": null,
   "metadata": {},
   "outputs": [],
   "source": [
    "%matplotlib inline\n",
    "import matplotlib.pyplot as plt\n",
    "\n",
    "final_df.plot('date_and_time', 'value', label='heart rate', figsize=(14, 7), title=\"Evolution of heart rate over time\")"
   ]
  },
  {
   "cell_type": "code",
   "execution_count": null,
   "metadata": {},
   "outputs": [],
   "source": [
    "fig, ax = plt.subplots(figsize=(10, 7))\n",
    "\n",
    "times = pd.to_datetime(final_df['date_and_time'])\n",
    "final_df.groupby([times.dt.hour]).value.mean().plot(ax = ax, label='avg')\n",
    "final_df.groupby([times.dt.hour]).value.min().plot(ax = ax, label='min')\n",
    "final_df.groupby([times.dt.hour]).value.max().plot(ax = ax, label='max')\n",
    "plt.legend(loc=\"upper left\")\n",
    "\n",
    "ax.grid(True, axis = 'both', zorder = 0, linestyle = ':', color = 'k')\n",
    "ax.tick_params(axis = 'both', rotation = 45, labelsize = 12)\n",
    "\n",
    "ax.set_xlabel('Hour of the day', fontsize = 14)\n",
    "ax.set_ylabel('Heart Rate', fontsize = 14)\n",
    "\n",
    "plt.xticks(range(0, 24))\n",
    "ax.set_xlim(0, 23)\n",
    "\n",
    "title = \"Min/Avg/Max heart rate per hour across the day from {} to {}\".format(startTime.date(), endTime)\n",
    "ax.set_title(title, fontdict={'fontsize': 14, 'fontweight': 'medium'})\n",
    "\n",
    "ax.set()\n",
    "fig.tight_layout()\n",
    "\n",
    "# to save the graph as an img in the end\n",
    "fig.savefig('heartRateGraphAvgByMin.png', format = 'png', dpi = 300)"
   ]
  }
 ],
 "metadata": {
  "kernelspec": {
   "display_name": "Python 3",
   "language": "python",
   "name": "python3"
  },
  "language_info": {
   "codemirror_mode": {
    "name": "ipython",
    "version": 3
   },
   "file_extension": ".py",
   "mimetype": "text/x-python",
   "name": "python",
   "nbconvert_exporter": "python",
   "pygments_lexer": "ipython3",
   "version": "3.8.2"
  }
 },
 "nbformat": 4,
 "nbformat_minor": 4
}
